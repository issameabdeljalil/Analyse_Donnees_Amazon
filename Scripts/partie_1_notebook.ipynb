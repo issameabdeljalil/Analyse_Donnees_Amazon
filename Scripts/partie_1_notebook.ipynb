{
 "cells": [
  {
   "cell_type": "markdown",
   "id": "71f56f03-862c-409f-97b3-9dc482fb229b",
   "metadata": {},
   "source": [
    "# <span style='color:darkred;text-decoration:underline'> **Partie 1 - Analyse Descriptive des bases et Visualisation Graphique :**"
   ]
  },
  {
   "cell_type": "code",
   "execution_count": 1,
   "id": "180fa50d-2b13-487c-877d-6eaa99a86832",
   "metadata": {
    "tags": []
   },
   "outputs": [],
   "source": [
    "#Import des librairies nécessaire\n",
    "import os \n",
    "import pandas as pd\n",
    "import matplotlib.pyplot as plt \n",
    "import numpy as np\n",
    "import seaborn as sns"
   ]
  },
  {
   "cell_type": "markdown",
   "id": "61fb4762",
   "metadata": {},
   "source": [
    "## <span style ='color:purple'> Phase préliminaire : Analyse et création du data frame"
   ]
  },
  {
   "cell_type": "code",
   "execution_count": 2,
   "id": "be4e2f0c-6995-47c2-97c2-818943b90cdd",
   "metadata": {
    "tags": []
   },
   "outputs": [],
   "source": [
    "#Lecture des bases de données\n",
    "df_prod=pd.read_csv('../Data/raw/amazon_products.csv')\n",
    "df_cat=pd.read_csv('../Data/raw/amazon_categories.csv')\n",
    "#Merge des tables products et categories\n",
    "df=pd.merge(df_prod, df_cat,  how='left', left_on=['category_id'], right_on = ['id'])\n",
    "#On choisis 'category_id' dans la table df_prod et 'id' dans la table df_cat afin de pouvoir réaliser le merge\n",
    "df.drop(\"category_id\",axis=1,inplace=True)\n",
    "#Suppression de 'category_id' puisque cette information est déjà présente au sein de la colonne 'id'"
   ]
  },
  {
   "cell_type": "code",
   "execution_count": 3,
   "id": "8d72e540-41e9-41bd-bd8c-e7a1b81920a0",
   "metadata": {
    "tags": []
   },
   "outputs": [
    {
     "name": "stdout",
     "output_type": "stream",
     "text": [
      "<class 'pandas.core.frame.DataFrame'>\n",
      "RangeIndex: 1426337 entries, 0 to 1426336\n",
      "Data columns (total 12 columns):\n",
      " #   Column             Non-Null Count    Dtype  \n",
      "---  ------             --------------    -----  \n",
      " 0   asin               1426337 non-null  object \n",
      " 1   title              1426336 non-null  object \n",
      " 2   imgUrl             1426337 non-null  object \n",
      " 3   productURL         1426337 non-null  object \n",
      " 4   stars              1426337 non-null  float64\n",
      " 5   reviews            1426337 non-null  int64  \n",
      " 6   price              1426337 non-null  float64\n",
      " 7   listPrice          1426337 non-null  float64\n",
      " 8   isBestSeller       1426337 non-null  bool   \n",
      " 9   boughtInLastMonth  1426337 non-null  int64  \n",
      " 10  id                 1426337 non-null  int64  \n",
      " 11  category_name      1426337 non-null  object \n",
      "dtypes: bool(1), float64(3), int64(3), object(5)\n",
      "memory usage: 121.1+ MB\n"
     ]
    },
    {
     "data": {
      "text/html": [
       "<div>\n",
       "<style scoped>\n",
       "    .dataframe tbody tr th:only-of-type {\n",
       "        vertical-align: middle;\n",
       "    }\n",
       "\n",
       "    .dataframe tbody tr th {\n",
       "        vertical-align: top;\n",
       "    }\n",
       "\n",
       "    .dataframe thead th {\n",
       "        text-align: right;\n",
       "    }\n",
       "</style>\n",
       "<table border=\"1\" class=\"dataframe\">\n",
       "  <thead>\n",
       "    <tr style=\"text-align: right;\">\n",
       "      <th></th>\n",
       "      <th>asin</th>\n",
       "      <th>title</th>\n",
       "      <th>imgUrl</th>\n",
       "      <th>productURL</th>\n",
       "      <th>stars</th>\n",
       "      <th>reviews</th>\n",
       "      <th>price</th>\n",
       "      <th>listPrice</th>\n",
       "      <th>isBestSeller</th>\n",
       "      <th>boughtInLastMonth</th>\n",
       "      <th>id</th>\n",
       "      <th>category_name</th>\n",
       "    </tr>\n",
       "  </thead>\n",
       "  <tbody>\n",
       "    <tr>\n",
       "      <th>0</th>\n",
       "      <td>B014TMV5YE</td>\n",
       "      <td>Sion Softside Expandable Roller Luggage, Black...</td>\n",
       "      <td>https://m.media-amazon.com/images/I/815dLQKYIY...</td>\n",
       "      <td>https://www.amazon.com/dp/B014TMV5YE</td>\n",
       "      <td>4.5</td>\n",
       "      <td>0</td>\n",
       "      <td>139.99</td>\n",
       "      <td>0.00</td>\n",
       "      <td>False</td>\n",
       "      <td>2000</td>\n",
       "      <td>104</td>\n",
       "      <td>Suitcases</td>\n",
       "    </tr>\n",
       "    <tr>\n",
       "      <th>1</th>\n",
       "      <td>B07GDLCQXV</td>\n",
       "      <td>Luggage Sets Expandable PC+ABS Durable Suitcas...</td>\n",
       "      <td>https://m.media-amazon.com/images/I/81bQlm7vf6...</td>\n",
       "      <td>https://www.amazon.com/dp/B07GDLCQXV</td>\n",
       "      <td>4.5</td>\n",
       "      <td>0</td>\n",
       "      <td>169.99</td>\n",
       "      <td>209.99</td>\n",
       "      <td>False</td>\n",
       "      <td>1000</td>\n",
       "      <td>104</td>\n",
       "      <td>Suitcases</td>\n",
       "    </tr>\n",
       "    <tr>\n",
       "      <th>2</th>\n",
       "      <td>B07XSCCZYG</td>\n",
       "      <td>Platinum Elite Softside Expandable Checked Lug...</td>\n",
       "      <td>https://m.media-amazon.com/images/I/71EA35zvJB...</td>\n",
       "      <td>https://www.amazon.com/dp/B07XSCCZYG</td>\n",
       "      <td>4.6</td>\n",
       "      <td>0</td>\n",
       "      <td>365.49</td>\n",
       "      <td>429.99</td>\n",
       "      <td>False</td>\n",
       "      <td>300</td>\n",
       "      <td>104</td>\n",
       "      <td>Suitcases</td>\n",
       "    </tr>\n",
       "    <tr>\n",
       "      <th>3</th>\n",
       "      <td>B08MVFKGJM</td>\n",
       "      <td>Freeform Hardside Expandable with Double Spinn...</td>\n",
       "      <td>https://m.media-amazon.com/images/I/91k6NYLQyI...</td>\n",
       "      <td>https://www.amazon.com/dp/B08MVFKGJM</td>\n",
       "      <td>4.6</td>\n",
       "      <td>0</td>\n",
       "      <td>291.59</td>\n",
       "      <td>354.37</td>\n",
       "      <td>False</td>\n",
       "      <td>400</td>\n",
       "      <td>104</td>\n",
       "      <td>Suitcases</td>\n",
       "    </tr>\n",
       "    <tr>\n",
       "      <th>4</th>\n",
       "      <td>B01DJLKZBA</td>\n",
       "      <td>Winfield 2 Hardside Expandable Luggage with Sp...</td>\n",
       "      <td>https://m.media-amazon.com/images/I/61NJoaZcP9...</td>\n",
       "      <td>https://www.amazon.com/dp/B01DJLKZBA</td>\n",
       "      <td>4.5</td>\n",
       "      <td>0</td>\n",
       "      <td>174.99</td>\n",
       "      <td>309.99</td>\n",
       "      <td>False</td>\n",
       "      <td>400</td>\n",
       "      <td>104</td>\n",
       "      <td>Suitcases</td>\n",
       "    </tr>\n",
       "  </tbody>\n",
       "</table>\n",
       "</div>"
      ],
      "text/plain": [
       "         asin                                              title  \\\n",
       "0  B014TMV5YE  Sion Softside Expandable Roller Luggage, Black...   \n",
       "1  B07GDLCQXV  Luggage Sets Expandable PC+ABS Durable Suitcas...   \n",
       "2  B07XSCCZYG  Platinum Elite Softside Expandable Checked Lug...   \n",
       "3  B08MVFKGJM  Freeform Hardside Expandable with Double Spinn...   \n",
       "4  B01DJLKZBA  Winfield 2 Hardside Expandable Luggage with Sp...   \n",
       "\n",
       "                                              imgUrl  \\\n",
       "0  https://m.media-amazon.com/images/I/815dLQKYIY...   \n",
       "1  https://m.media-amazon.com/images/I/81bQlm7vf6...   \n",
       "2  https://m.media-amazon.com/images/I/71EA35zvJB...   \n",
       "3  https://m.media-amazon.com/images/I/91k6NYLQyI...   \n",
       "4  https://m.media-amazon.com/images/I/61NJoaZcP9...   \n",
       "\n",
       "                             productURL  stars  reviews   price  listPrice  \\\n",
       "0  https://www.amazon.com/dp/B014TMV5YE    4.5        0  139.99       0.00   \n",
       "1  https://www.amazon.com/dp/B07GDLCQXV    4.5        0  169.99     209.99   \n",
       "2  https://www.amazon.com/dp/B07XSCCZYG    4.6        0  365.49     429.99   \n",
       "3  https://www.amazon.com/dp/B08MVFKGJM    4.6        0  291.59     354.37   \n",
       "4  https://www.amazon.com/dp/B01DJLKZBA    4.5        0  174.99     309.99   \n",
       "\n",
       "   isBestSeller  boughtInLastMonth   id category_name  \n",
       "0         False               2000  104     Suitcases  \n",
       "1         False               1000  104     Suitcases  \n",
       "2         False                300  104     Suitcases  \n",
       "3         False                400  104     Suitcases  \n",
       "4         False                400  104     Suitcases  "
      ]
     },
     "execution_count": 3,
     "metadata": {},
     "output_type": "execute_result"
    }
   ],
   "source": [
    "#Description de la base\n",
    "df.info()\n",
    "#On observe 1 426 337 observations et 12 varibales\n",
    "df.describe()\n",
    "df.head()"
   ]
  },
  {
   "cell_type": "code",
   "execution_count": 4,
   "id": "6af45ac3-5fa4-4dd3-aec7-7245d8cbabdc",
   "metadata": {
    "tags": []
   },
   "outputs": [
    {
     "name": "stdout",
     "output_type": "stream",
     "text": [
      "price     32772\n",
      "stars    131023\n",
      "dtype: int64\n",
      "------------------\n",
      "price    2.297634\n",
      "stars    9.185978\n",
      "dtype: float64\n"
     ]
    }
   ],
   "source": [
    "#Vérification du nombre de valeurs nulles présentes dans 'price' et 'stars'\n",
    "nbr_0=(df[['price','stars']]==0).sum()\n",
    "print(nbr_0)\n",
    "print(\"------------------\")\n",
    "nbr_0_prct= (df[['price','stars']]==0).sum()/len(df)*100 # pourcentage\n",
    "print(nbr_0_prct)"
   ]
  },
  {
   "cell_type": "code",
   "execution_count": 5,
   "id": "0c4c316e-6df9-4b06-9a6a-f3c025182c67",
   "metadata": {
    "tags": []
   },
   "outputs": [
    {
     "name": "stdout",
     "output_type": "stream",
     "text": [
      "asin                 0\n",
      "title                1\n",
      "imgUrl               0\n",
      "productURL           0\n",
      "stars                0\n",
      "reviews              0\n",
      "price                0\n",
      "listPrice            0\n",
      "isBestSeller         0\n",
      "boughtInLastMonth    0\n",
      "id                   0\n",
      "category_name        0\n",
      "dtype: int64\n"
     ]
    }
   ],
   "source": [
    "#Vérification du nombre de valeurs manquantes présentes dans la base de données\n",
    "na_nbr=df.isna().sum()\n",
    "print(na_nbr)"
   ]
  },
  {
   "cell_type": "code",
   "execution_count": 6,
   "id": "9ba05dd5-e054-4dca-90e6-92f7cc3ff429",
   "metadata": {
    "tags": []
   },
   "outputs": [],
   "source": [
    "#On remplace les 0 par des NaN pour ces 2 variables\n",
    "df['stars']=df['stars'].replace(0, np.nan)\n",
    "df['price']=df['price'].replace(0, np.nan)\n",
    "\n",
    "## Exportation du data frame modifié afin de le réutiliser dans les parties 2 et 3\n",
    "df.to_csv('../Data/out/amazon_data.csv',index=False)"
   ]
  },
  {
   "cell_type": "markdown",
   "id": "3640d268-3725-431b-9ad7-74a503626d27",
   "metadata": {
    "tags": []
   },
   "source": [
    "# <span style ='color:darkgreen'> Question 1"
   ]
  },
  {
   "cell_type": "code",
   "execution_count": 12,
   "id": "f78383cc-238f-4160-a50a-2acf43ccd21b",
   "metadata": {
    "tags": []
   },
   "outputs": [
    {
     "data": {
      "text/html": [
       "<div>\n",
       "<style scoped>\n",
       "    .dataframe tbody tr th:only-of-type {\n",
       "        vertical-align: middle;\n",
       "    }\n",
       "\n",
       "    .dataframe tbody tr th {\n",
       "        vertical-align: top;\n",
       "    }\n",
       "\n",
       "    .dataframe thead th {\n",
       "        text-align: right;\n",
       "    }\n",
       "</style>\n",
       "<table border=\"1\" class=\"dataframe\">\n",
       "  <thead>\n",
       "    <tr style=\"text-align: right;\">\n",
       "      <th></th>\n",
       "      <th>asin</th>\n",
       "      <th>title</th>\n",
       "      <th>reviews</th>\n",
       "    </tr>\n",
       "  </thead>\n",
       "  <tbody>\n",
       "    <tr>\n",
       "      <th>1070592</th>\n",
       "      <td>B00T0C9XRK</td>\n",
       "      <td>essence | Lash Princess False Lash Effect Masc...</td>\n",
       "      <td>346563</td>\n",
       "    </tr>\n",
       "    <tr>\n",
       "      <th>47104</th>\n",
       "      <td>B09MV3KMPT</td>\n",
       "      <td>ThisWorx Cordless Car Vacuum - Portable, Mini ...</td>\n",
       "      <td>292474</td>\n",
       "    </tr>\n",
       "    <tr>\n",
       "      <th>1075493</th>\n",
       "      <td>B07VMNJHBK</td>\n",
       "      <td>Full Size Sheet Set - Breathable &amp; Cooling She...</td>\n",
       "      <td>281661</td>\n",
       "    </tr>\n",
       "    <tr>\n",
       "      <th>1075468</th>\n",
       "      <td>B09JVTQKDN</td>\n",
       "      <td>Queen Size Sheet Set - Breathable &amp; Cooling Sh...</td>\n",
       "      <td>281661</td>\n",
       "    </tr>\n",
       "    <tr>\n",
       "      <th>1075466</th>\n",
       "      <td>B07PH22TG9</td>\n",
       "      <td>Queen Size Sheet Set - Breathable &amp; Cooling Sh...</td>\n",
       "      <td>281661</td>\n",
       "    </tr>\n",
       "    <tr>\n",
       "      <th>116788</th>\n",
       "      <td>B07X6C9RMF</td>\n",
       "      <td>Blink Mini – Compact indoor plug-in smart secu...</td>\n",
       "      <td>260659</td>\n",
       "    </tr>\n",
       "    <tr>\n",
       "      <th>1070627</th>\n",
       "      <td>B004Y9GTOO</td>\n",
       "      <td>Maybelline New York Instant Age Rewind Eraser ...</td>\n",
       "      <td>194051</td>\n",
       "    </tr>\n",
       "    <tr>\n",
       "      <th>104930</th>\n",
       "      <td>B07KKXQNMY</td>\n",
       "      <td>Schick Hydro Silk Touch-Up Exfoliating Dermapl...</td>\n",
       "      <td>183726</td>\n",
       "    </tr>\n",
       "    <tr>\n",
       "      <th>52987</th>\n",
       "      <td>B07WVFCVJN</td>\n",
       "      <td>Roku Express | HD Roku Streaming Device with S...</td>\n",
       "      <td>177760</td>\n",
       "    </tr>\n",
       "    <tr>\n",
       "      <th>65089</th>\n",
       "      <td>B09N3ZNHTY</td>\n",
       "      <td>BOAT Airdopes 141 Bluetooth Truly Wireless in ...</td>\n",
       "      <td>174524</td>\n",
       "    </tr>\n",
       "  </tbody>\n",
       "</table>\n",
       "</div>"
      ],
      "text/plain": [
       "               asin                                              title  \\\n",
       "1070592  B00T0C9XRK  essence | Lash Princess False Lash Effect Masc...   \n",
       "47104    B09MV3KMPT  ThisWorx Cordless Car Vacuum - Portable, Mini ...   \n",
       "1075493  B07VMNJHBK  Full Size Sheet Set - Breathable & Cooling She...   \n",
       "1075468  B09JVTQKDN  Queen Size Sheet Set - Breathable & Cooling Sh...   \n",
       "1075466  B07PH22TG9  Queen Size Sheet Set - Breathable & Cooling Sh...   \n",
       "116788   B07X6C9RMF  Blink Mini – Compact indoor plug-in smart secu...   \n",
       "1070627  B004Y9GTOO  Maybelline New York Instant Age Rewind Eraser ...   \n",
       "104930   B07KKXQNMY  Schick Hydro Silk Touch-Up Exfoliating Dermapl...   \n",
       "52987    B07WVFCVJN  Roku Express | HD Roku Streaming Device with S...   \n",
       "65089    B09N3ZNHTY  BOAT Airdopes 141 Bluetooth Truly Wireless in ...   \n",
       "\n",
       "         reviews  \n",
       "1070592   346563  \n",
       "47104     292474  \n",
       "1075493   281661  \n",
       "1075468   281661  \n",
       "1075466   281661  \n",
       "116788    260659  \n",
       "1070627   194051  \n",
       "104930    183726  \n",
       "52987     177760  \n",
       "65089     174524  "
      ]
     },
     "execution_count": 12,
     "metadata": {},
     "output_type": "execute_result"
    }
   ],
   "source": [
    "#Tri des variables\n",
    "TopRev=df.sort_values(by='reviews',ascending=False)\n",
    "#Affichage des 10 premières lignes\n",
    "TopRev[['asin','title','reviews']].head(10)"
   ]
  },
  {
   "cell_type": "markdown",
   "id": "eb14794c-1639-475d-af46-940f8c56fe5e",
   "metadata": {},
   "source": [
    "## <span style='color:darkblue'> Représentation Graphique"
   ]
  },
  {
   "cell_type": "code",
   "execution_count": 13,
   "id": "0e11da23-fbe3-4ab4-b16a-67b05c209a3c",
   "metadata": {
    "tags": []
   },
   "outputs": [
    {
     "data": {
      "image/png": "[encoded data removed]",
      "text/plain": [
       "<Figure size 640x480 with 1 Axes>"
      ]
     },
     "metadata": {},
     "output_type": "display_data"
    }
   ],
   "source": [
    "#Nouveau tri des variables, par stars\n",
    "Top10=TopRev.head(10).sort_values(by='stars',ascending=False)\n",
    "#Affichage d'un histogramme\n",
    "graph1=sns.barplot(Top10,x='asin',y='stars')\n",
    "graph1.set_title(\"Note moyenne des 10 articles ayant le plus d'avis\")\n",
    "plt.xlabel('Identifiant du produit Amazon')\n",
    "plt.ylabel('Note sur 5 du produit')\n",
    "plt.xticks(fontsize=5)\n",
    "plt.show(graph1)"
   ]
  },
  {
   "cell_type": "markdown",
   "id": "b7b9eb87-cba4-424a-a95b-7103da3cfac0",
   "metadata": {
    "tags": []
   },
   "source": [
    "# <span style='color:darkgreen'> Question 2"
   ]
  },
  {
   "cell_type": "code",
   "execution_count": 20,
   "id": "2829565a-cd61-4a4e-bf80-9486040e71fa",
   "metadata": {
    "tags": []
   },
   "outputs": [
    {
     "data": {
      "text/html": [
       "<div>\n",
       "<style scoped>\n",
       "    .dataframe tbody tr th:only-of-type {\n",
       "        vertical-align: middle;\n",
       "    }\n",
       "\n",
       "    .dataframe tbody tr th {\n",
       "        vertical-align: top;\n",
       "    }\n",
       "\n",
       "    .dataframe thead th {\n",
       "        text-align: right;\n",
       "    }\n",
       "</style>\n",
       "<table border=\"1\" class=\"dataframe\">\n",
       "  <thead>\n",
       "    <tr style=\"text-align: right;\">\n",
       "      <th></th>\n",
       "      <th>price</th>\n",
       "      <th>stars</th>\n",
       "    </tr>\n",
       "    <tr>\n",
       "      <th>category_name</th>\n",
       "      <th></th>\n",
       "      <th></th>\n",
       "    </tr>\n",
       "  </thead>\n",
       "  <tbody>\n",
       "    <tr>\n",
       "      <th>Computer Servers</th>\n",
       "      <td>1561.524057</td>\n",
       "      <td>4.100000</td>\n",
       "    </tr>\n",
       "    <tr>\n",
       "      <th>Computers &amp; Tablets</th>\n",
       "      <td>571.866613</td>\n",
       "      <td>4.106103</td>\n",
       "    </tr>\n",
       "    <tr>\n",
       "      <th>Smart Home: Home Entertainment</th>\n",
       "      <td>397.707662</td>\n",
       "      <td>4.325714</td>\n",
       "    </tr>\n",
       "    <tr>\n",
       "      <th>Smart Home: Vacuums and Mops</th>\n",
       "      <td>344.959800</td>\n",
       "      <td>3.987013</td>\n",
       "    </tr>\n",
       "    <tr>\n",
       "      <th>Smart Home - Heating &amp; Cooling</th>\n",
       "      <td>261.731957</td>\n",
       "      <td>4.049265</td>\n",
       "    </tr>\n",
       "    <tr>\n",
       "      <th>Luggage Sets</th>\n",
       "      <td>237.560625</td>\n",
       "      <td>4.259701</td>\n",
       "    </tr>\n",
       "    <tr>\n",
       "      <th>Computer Monitors</th>\n",
       "      <td>231.570870</td>\n",
       "      <td>4.203953</td>\n",
       "    </tr>\n",
       "    <tr>\n",
       "      <th>Smart Home Thermostats - Compatibility Checker</th>\n",
       "      <td>182.518333</td>\n",
       "      <td>3.785714</td>\n",
       "    </tr>\n",
       "    <tr>\n",
       "      <th>Computer External Components</th>\n",
       "      <td>173.294856</td>\n",
       "      <td>3.934652</td>\n",
       "    </tr>\n",
       "    <tr>\n",
       "      <th>Video Projectors</th>\n",
       "      <td>172.290623</td>\n",
       "      <td>3.993663</td>\n",
       "    </tr>\n",
       "    <tr>\n",
       "      <th>Smart Home: Smart Locks and Entry</th>\n",
       "      <td>167.027037</td>\n",
       "      <td>4.193857</td>\n",
       "    </tr>\n",
       "    <tr>\n",
       "      <th>Camera &amp; Photo</th>\n",
       "      <td>164.660023</td>\n",
       "      <td>4.473157</td>\n",
       "    </tr>\n",
       "    <tr>\n",
       "      <th>Data Storage</th>\n",
       "      <td>161.340393</td>\n",
       "      <td>4.239259</td>\n",
       "    </tr>\n",
       "    <tr>\n",
       "      <th>Smart Home: Lawn and Garden</th>\n",
       "      <td>158.506818</td>\n",
       "      <td>4.244737</td>\n",
       "    </tr>\n",
       "    <tr>\n",
       "      <th>Smart Home: New Smart Devices</th>\n",
       "      <td>156.445278</td>\n",
       "      <td>4.095238</td>\n",
       "    </tr>\n",
       "  </tbody>\n",
       "</table>\n",
       "</div>"
      ],
      "text/plain": [
       "                                                      price     stars\n",
       "category_name                                                        \n",
       "Computer Servers                                1561.524057  4.100000\n",
       "Computers & Tablets                              571.866613  4.106103\n",
       "Smart Home: Home Entertainment                   397.707662  4.325714\n",
       "Smart Home: Vacuums and Mops                     344.959800  3.987013\n",
       "Smart Home - Heating & Cooling                   261.731957  4.049265\n",
       "Luggage Sets                                     237.560625  4.259701\n",
       "Computer Monitors                                231.570870  4.203953\n",
       "Smart Home Thermostats - Compatibility Checker   182.518333  3.785714\n",
       "Computer External Components                     173.294856  3.934652\n",
       "Video Projectors                                 172.290623  3.993663\n",
       "Smart Home: Smart Locks and Entry                167.027037  4.193857\n",
       "Camera & Photo                                   164.660023  4.473157\n",
       "Data Storage                                     161.340393  4.239259\n",
       "Smart Home: Lawn and Garden                      158.506818  4.244737\n",
       "Smart Home: New Smart Devices                    156.445278  4.095238"
      ]
     },
     "execution_count": 20,
     "metadata": {},
     "output_type": "execute_result"
    }
   ],
   "source": [
    "#Regroupement des variables\n",
    "Group_cat=df.groupby('category_name').mean('price')\n",
    "MostExp_cat=Group_cat.sort_values('price',ascending=False)\n",
    "MostExp_cat[['price','stars']].head(15)"
   ]
  },
  {
   "cell_type": "markdown",
   "id": "7a8fa789-61dd-447b-bb68-b0f2b7b3a817",
   "metadata": {},
   "source": [
    "## <span style='color:darkblue'> Représentation Graphique"
   ]
  },
  {
   "cell_type": "code",
   "execution_count": 15,
   "id": "8e686058-a4bb-4973-94c6-3a9808a7b449",
   "metadata": {
    "tags": []
   },
   "outputs": [
    {
     "data": {
      "image/png": "[encoded data removed]",
      "text/plain": [
       "<Figure size 640x480 with 1 Axes>"
      ]
     },
     "metadata": {},
     "output_type": "display_data"
    }
   ],
   "source": [
    "#Affichage d'un histogramme\n",
    "graph2=sns.barplot(MostExp_cat.head(15),x='id',y='price')\n",
    "plt.xticks(fontsize=7)\n",
    "graph2.set_title('Prix moyens pour les 15 catégories les plus chères')\n",
    "plt.xlabel('Identifiant de la catégorie')\n",
    "plt.ylabel('Prix moyen de la catégorie')\n",
    "plt.show(graph2)"
   ]
  },
  {
   "cell_type": "markdown",
   "id": "c07b659b-5741-4876-a750-9de3b18ae4a3",
   "metadata": {},
   "source": [
    "# <span style='color:darkgreen'> Question 3"
   ]
  },
  {
   "cell_type": "code",
   "execution_count": 16,
   "id": "d5dde6e9-13ae-44a8-a2b6-2d860d701efe",
   "metadata": {
    "tags": []
   },
   "outputs": [
    {
     "data": {
      "text/html": [
       "<div>\n",
       "<style scoped>\n",
       "    .dataframe tbody tr th:only-of-type {\n",
       "        vertical-align: middle;\n",
       "    }\n",
       "\n",
       "    .dataframe tbody tr th {\n",
       "        vertical-align: top;\n",
       "    }\n",
       "\n",
       "    .dataframe thead th {\n",
       "        text-align: right;\n",
       "    }\n",
       "</style>\n",
       "<table border=\"1\" class=\"dataframe\">\n",
       "  <thead>\n",
       "    <tr style=\"text-align: right;\">\n",
       "      <th></th>\n",
       "      <th>title</th>\n",
       "      <th>isBestSeller</th>\n",
       "      <th>stars</th>\n",
       "    </tr>\n",
       "  </thead>\n",
       "  <tbody>\n",
       "    <tr>\n",
       "      <th>50974</th>\n",
       "      <td>Digital TV Converter Box, ATSC Cabal Box - ZJB...</td>\n",
       "      <td>True</td>\n",
       "      <td>3.8</td>\n",
       "    </tr>\n",
       "    <tr>\n",
       "      <th>51329</th>\n",
       "      <td>Bobtot Home Theater Systems Surround Sound Spe...</td>\n",
       "      <td>True</td>\n",
       "      <td>3.9</td>\n",
       "    </tr>\n",
       "    <tr>\n",
       "      <th>117550</th>\n",
       "      <td>Timekettle M3 Language Translator Earbuds, Two...</td>\n",
       "      <td>True</td>\n",
       "      <td>3.6</td>\n",
       "    </tr>\n",
       "    <tr>\n",
       "      <th>126600</th>\n",
       "      <td>Electric Gel Ball Blaster, High Speed Automati...</td>\n",
       "      <td>True</td>\n",
       "      <td>3.9</td>\n",
       "    </tr>\n",
       "    <tr>\n",
       "      <th>126679</th>\n",
       "      <td>Rhode Island Novelty 6 Inch Water Squirter, Tw...</td>\n",
       "      <td>True</td>\n",
       "      <td>3.2</td>\n",
       "    </tr>\n",
       "  </tbody>\n",
       "</table>\n",
       "</div>"
      ],
      "text/plain": [
       "                                                    title  isBestSeller  stars\n",
       "50974   Digital TV Converter Box, ATSC Cabal Box - ZJB...          True    3.8\n",
       "51329   Bobtot Home Theater Systems Surround Sound Spe...          True    3.9\n",
       "117550  Timekettle M3 Language Translator Earbuds, Two...          True    3.6\n",
       "126600  Electric Gel Ball Blaster, High Speed Automati...          True    3.9\n",
       "126679  Rhode Island Novelty 6 Inch Water Squirter, Tw...          True    3.2"
      ]
     },
     "execution_count": 16,
     "metadata": {},
     "output_type": "execute_result"
    }
   ],
   "source": [
    "#Sélection des produits répondant aux critères\n",
    "IsBS=df.loc[(df['isBestSeller']==True)&(df['stars']<4)]\n",
    "#Affichage des 5 premières lignes\n",
    "IsBS[['title','isBestSeller','stars']].head(5)"
   ]
  },
  {
   "cell_type": "markdown",
   "id": "74b87383-c1f5-41bc-8e80-c9623f936896",
   "metadata": {},
   "source": [
    "## <span style='color:darkblue'> Représentation Graphique"
   ]
  },
  {
   "cell_type": "code",
   "execution_count": 17,
   "id": "b08e94ae-5a3b-4e7e-9561-cc1dc1fbf163",
   "metadata": {
    "tags": []
   },
   "outputs": [
    {
     "data": {
      "image/png": "[encoded data removed]",
      "text/plain": [
       "<Figure size 640x480 with 1 Axes>"
      ]
     },
     "metadata": {},
     "output_type": "display_data"
    },
    {
     "name": "stdout",
     "output_type": "stream",
     "text": [
      "Médiane:  18.89 | 1er Quartile:  10.99 | 3ème Quartile:  29.99\n"
     ]
    }
   ],
   "source": [
    "#Affichage d'un boxplot\n",
    "graph3=sns.boxplot(IsBS,x='price')\n",
    "graph3.set_title('Distribution des prix')\n",
    "plt.show()\n",
    "#Calcul de la médiane, 1er et 3ème quartile pour l'interprétation\n",
    "pmed=IsBS['price'].median()\n",
    "Q1=IsBS['price'].quantile(0.25)\n",
    "Q3=IsBS['price'].quantile(0.75)\n",
    "print ('Médiane: ',pmed ,'| 1er Quartile: ', Q1,'| 3ème Quartile: ', Q3)"
   ]
  },
  {
   "cell_type": "code",
   "execution_count": 52,
   "id": "c7959f9d-0b2d-449e-bfa5-79d3cfb1bf58",
   "metadata": {
    "tags": []
   },
   "outputs": [
    {
     "data": {
      "text/html": [
       "<div>\n",
       "<style scoped>\n",
       "    .dataframe tbody tr th:only-of-type {\n",
       "        vertical-align: middle;\n",
       "    }\n",
       "\n",
       "    .dataframe tbody tr th {\n",
       "        vertical-align: top;\n",
       "    }\n",
       "\n",
       "    .dataframe thead th {\n",
       "        text-align: right;\n",
       "    }\n",
       "</style>\n",
       "<table border=\"1\" class=\"dataframe\">\n",
       "  <thead>\n",
       "    <tr style=\"text-align: right;\">\n",
       "      <th></th>\n",
       "      <th>price</th>\n",
       "      <th>boughtInLastMonth</th>\n",
       "      <th>category_name</th>\n",
       "    </tr>\n",
       "  </thead>\n",
       "  <tbody>\n",
       "    <tr>\n",
       "      <th>466031</th>\n",
       "      <td>20.69</td>\n",
       "      <td>100000</td>\n",
       "      <td>Oral Care Products</td>\n",
       "    </tr>\n",
       "    <tr>\n",
       "      <th>330154</th>\n",
       "      <td>16.95</td>\n",
       "      <td>20000</td>\n",
       "      <td>Perfumes &amp; Fragrances</td>\n",
       "    </tr>\n",
       "    <tr>\n",
       "      <th>922209</th>\n",
       "      <td>7.99</td>\n",
       "      <td>20000</td>\n",
       "      <td>Kitchen &amp; Bath Fixtures</td>\n",
       "    </tr>\n",
       "    <tr>\n",
       "      <th>365770</th>\n",
       "      <td>4.99</td>\n",
       "      <td>20000</td>\n",
       "      <td>Health &amp; Household</td>\n",
       "    </tr>\n",
       "    <tr>\n",
       "      <th>724853</th>\n",
       "      <td>29.98</td>\n",
       "      <td>10000</td>\n",
       "      <td>Toy Figures &amp; Playsets</td>\n",
       "    </tr>\n",
       "  </tbody>\n",
       "</table>\n",
       "</div>"
      ],
      "text/plain": [
       "        price  boughtInLastMonth            category_name\n",
       "466031  20.69             100000       Oral Care Products\n",
       "330154  16.95              20000    Perfumes & Fragrances\n",
       "922209   7.99              20000  Kitchen & Bath Fixtures\n",
       "365770   4.99              20000       Health & Household\n",
       "724853  29.98              10000   Toy Figures & Playsets"
      ]
     },
     "execution_count": 52,
     "metadata": {},
     "output_type": "execute_result"
    }
   ],
   "source": [
    "#Tri des données par unités vendues\n",
    "MostSell=IsBS.sort_values('boughtInLastMonth',ascending=False)\n",
    "MostSell[['price','boughtInLastMonth','category_name']].head(5)"
   ]
  },
  {
   "cell_type": "markdown",
   "id": "ed6271db-4c41-4508-88b9-e236b77304c7",
   "metadata": {},
   "source": [
    "# <span style='color:darkgreen'> Question 4"
   ]
  },
  {
   "cell_type": "code",
   "execution_count": 21,
   "id": "136fd76a-16dd-49fe-b520-965f6350c467",
   "metadata": {},
   "outputs": [
    {
     "data": {
      "text/plain": [
       "Text(0.5, 1.0, 'Matrice de Corrélation')"
      ]
     },
     "execution_count": 21,
     "metadata": {},
     "output_type": "execute_result"
    },
    {
     "data": {
      "image/png": "[encoded data removed]",
      "text/plain": [
       "<Figure size 640x480 with 2 Axes>"
      ]
     },
     "metadata": {},
     "output_type": "display_data"
    }
   ],
   "source": [
    "#Sélection des données pertinente pour la corrélation\n",
    "Var=df[['price','stars','reviews','isBestSeller','boughtInLastMonth']]\n",
    "#Matrice de corrélation (+ heatmap)\n",
    "sns.heatmap(Var.corr(),annot=True,cmap='coolwarm',fmt='.2f')\n",
    "plt.title('Matrice de Corrélation')"
   ]
  }
 ],
 "metadata": {
  "kernelspec": {
   "display_name": "Python 3 (ipykernel)",
   "language": "python",
   "name": "python3"
  },
  "language_info": {
   "codemirror_mode": {
    "name": "ipython",
    "version": 3
   },
   "file_extension": ".py",
   "mimetype": "text/x-python",
   "name": "python",
   "nbconvert_exporter": "python",
   "pygments_lexer": "ipython3",
   "version": "3.11.5"
  }
 },
 "nbformat": 4,
 "nbformat_minor": 5
}
